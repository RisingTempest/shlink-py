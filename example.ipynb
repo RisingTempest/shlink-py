{
 "cells": [
  {
   "cell_type": "code",
   "execution_count": null,
   "metadata": {},
   "outputs": [],
   "source": [
    "from shlink import Shlink\n",
    "\n",
    "shlink_url = 'https://s.shlink.example/'\n",
    "shlink_api_key = 'this_is_a_veryvery_large_apikey_for_shlink'\n",
    "\n",
    "# Connect to Shlink API\n",
    "shlink = Shlink(url=shlink_url, api_key=shlink_api_key)\n",
    "\n",
    "short_urls = shlink.list_short_urls()\n",
    "\n",
    "get_short_url = shlink.get_short_url('shortCode')\n",
    "\n",
    "visits_data = shlink.list_visit_data('shortCode')"
   ]
  },
  {
   "cell_type": "code",
   "execution_count": null,
   "metadata": {},
   "outputs": [],
   "source": [
    "\"\"\"THIS IS A EXAMPLPE OF HOW USER_AGENTS WORKS TO EXTRACT BROWSER, OPERATING SYSTAM AND DEVICE INFORMATION\"\"\"\n",
    "\n",
    "#!pip install user-agents\n",
    "\n",
    "from user_agents import parse\n",
    "\n",
    "user_agent_string = \"Mozilla/5.0 (Windows NT 10.0; Win64; x64) AppleWebKit/537.36 (KHTML, like Gecko) Chrome/120.0.0.0 Safari/537.36\"\n",
    "\n",
    "ua = parse(user_agent_string)\n",
    "\n",
    "# Extract various details\n",
    "browser_name = ua.browser.family\n",
    "browser_version = ua.browser.version_string\n",
    "os_name = ua.os.family\n",
    "os_version = ua.os.version_string\n",
    "device = ua.device.family\n",
    "\n",
    "# Print the extracted information\n",
    "print(f\"Browser: {browser_name} {browser_version}\")\n",
    "print(f\"Operating System: {os_name} {os_version}\")\n",
    "print(f\"Device: {device}\")"
   ]
  }
 ],
 "metadata": {
  "kernelspec": {
   "display_name": "Python 3",
   "language": "python",
   "name": "python3"
  },
  "language_info": {
   "name": "python",
   "version": "3.12.0"
  }
 },
 "nbformat": 4,
 "nbformat_minor": 2
}

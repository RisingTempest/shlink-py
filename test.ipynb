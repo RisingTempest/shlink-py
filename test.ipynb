{
 "cells": [
  {
   "cell_type": "code",
   "execution_count": null,
   "metadata": {},
   "outputs": [],
   "source": [
    "from shlink import Shlink\n",
    "from datetime import datetime\n",
    "\n",
    "shlink_url = 'asd'\n",
    "shlink_api_key = 'asdfasfd'\n",
    "\n",
    "# Connecto to Shlink API\n",
    "shlink = Shlink(url=shlink_url, api_key=shlink_api_key)\n",
    "\n",
    "result = shlink.list_short_urls()\n",
    "result"
   ]
  },
  {
   "cell_type": "code",
   "execution_count": null,
   "metadata": {},
   "outputs": [],
   "source": [
    "shlink.list_visit_data('OtIOM')"
   ]
  }
 ],
 "metadata": {
  "kernelspec": {
   "display_name": "Python 3",
   "language": "python",
   "name": "python3"
  },
  "language_info": {
   "codemirror_mode": {
    "name": "ipython",
    "version": 3
   },
   "file_extension": ".py",
   "mimetype": "text/x-python",
   "name": "python",
   "nbconvert_exporter": "python",
   "pygments_lexer": "ipython3",
   "version": "3.11.4"
  }
 },
 "nbformat": 4,
 "nbformat_minor": 2
}
